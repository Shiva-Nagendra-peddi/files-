{
  "nbformat": 4,
  "nbformat_minor": 0,
  "metadata": {
    "colab": {
      "provenance": []
    },
    "kernelspec": {
      "name": "python3",
      "display_name": "Python 3"
    },
    "language_info": {
      "name": "python"
    }
  },
  "cells": [
    {
      "cell_type": "markdown",
      "source": [
        "1. What is the difference between interpreted and compiled languages?\n",
        "Ans :\n",
        "Compiled Languages: Code is translated into machine code before   execution. This produces a binary that runs directly on the hardware, giving faster performance.\n",
        "Examples: C, C++, C#, COBOL.\n",
        "\n",
        "Interpreted Languages: Code is read and executed line by line by an interpreter at runtime, without producing a separate binary. These languages are generally slower but more flexible and portable.\n",
        "Examples: Python, JavaScript, Perl.\n",
        "\n",
        "2.What is exception handling in Python?\n",
        "Ans:\n",
        "Exception Handling in Python:\n",
        "Exception handling is a mechanism to deal with errors that may disrupt the normal flow of a program. Python provides structured blocks to manage and respond to various exceptions.\n",
        "\n",
        "Basic Steps in Exception Handling\n",
        "try: Code that might raise an exception goes here.\n",
        "\n",
        "except: Catches the exception and handles it.\n",
        "\n",
        "else: Executes if no exception occurs in the try block.\n",
        "\n",
        "finally: Runs code that should execute regardless of exception status.\n",
        "\n",
        "3. What is the purpose of the finally block in exception handling?\n",
        "Ans:\n",
        "Purpose of the finally Block\n",
        "The finally block ensures certain code runs no matter what—whether an exception was raised or not.\n",
        "\n",
        "It is typically used for cleanup actions, such as closing files or releasing resources, guaranteeing resource management and maintaining program integrity.\n",
        "\n",
        "4. What is logging in Python?\n",
        "Ans:\n",
        "Logging in Python:\n",
        "Logging is the practice of recording significant events during a program's execution. It helps track the state and identify issues. Python's built-in logging module enables flexible log management for debugging and monitoring purposes\n",
        "\n",
        "5. What is the significance of the __del__ method in Python?\n",
        "Ans:\n",
        "Significance of the __del__ Method in Python:\n",
        "The __del__ method is called when an object is about to be destroyed.\n",
        "It’s used for cleanup actions, such as closing network connections or files when an object is garbage collected.\n",
        "Note: Relying solely on __del__ for critical cleanup isn't always recommended because of the unpredictable timing of garbage collection.\n",
        "\n",
        "6. What is the difference between import and from ... import in Python?\n",
        "Ans:\n",
        "Difference Between import and from ... import in Python\n",
        "import module: Imports the entire module. You access functions/classes using module.function().\n",
        "\n",
        "from module import item: Imports only specific items, allowing you to use them directly without the module prefix.\n",
        "\n",
        "7. How can you handle multiple exceptions in Python?\n",
        "Ans:\n",
        "Handling Multiple Exceptions in Python\n",
        "Multiple exceptions can be caught in a single except statement by grouping them in parentheses:\n",
        "    # code that may raise exceptions\n",
        "except (TypeError, ValueError) as e:\n",
        "    # handle both exceptions\n",
        "\n",
        "This structure keeps code clean and concise when similar handling logic is required for several exception types.\n",
        "\n",
        "8. What is the purpose of the with statement when handling files in Python?\n",
        "Ans:\n",
        "Purpose of the with Statement When Handling Files in Python\n",
        "The with statement provides automatic resource management.\n",
        "When working with files, it ensures that files are properly closed after their suite finishes, even if exceptions occur.\n",
        "It simplifies code, removing the need for explicit closing calls.\n",
        "\n",
        "9. What is the difference between multithreading and multiprocessing?\n",
        "Ans:\n",
        "Difference Between Multithreading and Multiprocessing\n",
        "Multithreading: Multiple threads share the same memory space, suitable for I/O-bound tasks.\n",
        "Multiprocessing: Involves multiple processes with separate memory, better for CPU-bound tasks. Processes run independently and can achieve true parallelism, especially on multi-core systems.\n",
        "\n",
        "10. What are the advantages of using logging in a program?\n",
        "Ans:\n",
        "Advantages of Using Logging:\n",
        "Debugging – Helps trace issues with detailed info.\n",
        "Log Levels – Control message importance (DEBUG, INFO, etc.).\n",
        "Non-intrusive – Doesn’t interfere with program output.\n",
        "Persistent – Saves logs to files for later analysis.\n",
        "Flexible – Logs to console, files, or remote systems.\n",
        "Scalable – Suitable for large, complex applications.\n",
        "Thread-safe – Works well in multi-threaded programs.\n",
        "\n",
        "11. What is memory management in Python?\n",
        "Ans:\n",
        "Memory Management in Python\n",
        "Python uses automatic memory management through reference counting and a garbage collector for cleaning up unused objects. This reduces manual memory handling and helps prevent memory leaks.\n",
        "Importance of Memory Management\n",
        "Ensures efficient use of system resources.\n",
        "Prevents memory leaks and related bugs.\n",
        "Supports large-scale applications by keeping resource usage under control.\n",
        "\n",
        "12. What are the basic steps involved in exception handling in Python?\n",
        "Ans:\n",
        "Basic Steps in Exception Handling in Python:\n",
        "Try Block\n",
        "Code that may raise an exception is placed inside a try block.\n",
        "Except Block\n",
        "Catches and handles specific exceptions using except.\n",
        "Else Block (Optional)\n",
        "Runs if no exception occurs in the try block.\n",
        "Finally Block (Optional)\n",
        "Always runs, whether an exception occurred or not. Used for cleanup.\n",
        "\n",
        "Example:\n",
        "    x = 10 / 0\n",
        "except ZeroDivisionError:\n",
        "    print(\"Can't divide by zero.\")\n",
        "else:\n",
        "    print(\"Division successful.\")\n",
        "finally:\n",
        "    print(\"Finished.\")\n",
        "\n",
        "13.  Why is memory management important in Python?\n",
        "Ans:\n",
        "Prevents Memory Leaks\n",
        "Ensures unused memory is freed, avoiding slowdowns or crashes.\n",
        "Improves Performance\n",
        "Efficient memory use speeds up program execution.\n",
        "Supports Large Applications\n",
        "Keeps memory use under control in complex or long-running programs.\n",
        "Automatic but Not Perfect\n",
        "Python uses automatic garbage collection, but understanding it helps avoid issues like circular references.\n",
        "Resource Optimization\n",
        "Helps make the best use of limited system resources, especially in embedded systems or servers.\n",
        "\n",
        "14. What is the role of try and except in exception handling?\n",
        "Ans:\n",
        "Role of try and except in Exception Handling\n",
        "The try block contains code that might raise an exception.\n",
        "The except block catches and handles those exceptions, allowing the program to continue running or gracefully exit\n",
        "\n",
        "15.  How does Python's garbage collection system work?\n",
        "Ans:\n",
        "Python’s garbage collector manages memory by:\n",
        "Reference counting: Tracks the number of references to each object.\n",
        "Cyclic garbage collector: Detects and cleans up groups of objects with circular references.\n",
        "\n",
        "16. What is the purpose of the else block in exception handling?\n",
        "Ans:\n",
        " Purpose of the else Block in Exception Handling\n",
        "The else block runs when no exception is raised in the try block.\n",
        "It helps separate the logic for successful execution from error handling, improving code readability.\n",
        "\n",
        "17. What are the common logging levels in Python?\n",
        "Ans:\n",
        "Common Logging Levels in Python\n",
        "DEBUG: Detailed information, for diagnosing problems.\n",
        "INFO: Confirmation that things are working as expected.\n",
        "WARNING: Indicates something unexpected happened, but the program is still running.\n",
        "ERROR: More serious problems; the software is unable to perform a function.\n",
        "CRITICAL: Serious errors, indicating the program itself may be unable to continue.\n",
        "\n",
        "18. What is the difference between os.fork() and multiprocessing in Python?\n",
        "Ans:\n",
        "Difference Between os.fork() and Multiprocessing\n",
        "os.fork(): Unix-only system call that creates a child process. Both parent and child share the same code but have separate memory.\n",
        "Multiprocessing: Cross-platform module; allows spawning processes that run Python code in parallel, easier and safer for most applications.\n",
        "\n",
        "19. What is the importance of closing a file in Python?\n",
        "Ans:\n",
        "Importance of Closing a File in Python\n",
        "Frees system resources tied up with the file.\n",
        "Prevents data loss and file corruption.\n",
        "Ensures all buffered data is written to disk.\n",
        "\n",
        "20. What is the difference between file.read() and file.readline() in Python?\n",
        "Ans:\n",
        "Difference Between file.read() and file.readline() in Python\n",
        "file.read(): Reads the entire contents (or a specific number of bytes) of a file at once.\n",
        "file.readline(): Reads a single line at a time, useful for processing large files line by line.\n",
        "\n",
        "21. What is the logging module in Python used for?\n",
        "Ans:\n",
        "Logging Module in Python\n",
        "The logging module facilitates event tracking, custom log formatting, and flexible output to different destinations (files, console, etc.) It is the standard way to add logging to Python applications.\n",
        "\n",
        "22. What is the os module in Python used for in file handling?\n",
        "Ans:\n",
        "The os Module in Python (File Handling)\n",
        "The os module provides a way to interact with the operating system, including file and directory operations, environment variables, and process management. It is essential for file handling tasks such as copying, renaming, and deleting files.\n",
        "\n",
        "23. What are the challenges associated with memory management in Python?\n",
        "Ans:\n",
        "Challenges of Memory Management in Python\n",
        "Identifying and resolving memory leaks, especially with reference cycles.\n",
        "Efficient allocation and deallocation when dealing with large or complex data structures.\n",
        "Managing resource cleanup for external connections and files\n",
        "\n",
        "24. How do you raise an exception manually in Python?\n",
        "Ans:\n",
        "Raising Exceptions Manually in Python\n",
        "You can raise an exception in Python using the raise keyword:\n",
        "# raise ValueError(\"Invalid input\")\n",
        "This is useful for signaling user-defined error conditions.\n",
        "\n",
        "25. Why is it important to use multithreading in certain applications?\n",
        "Ans:\n",
        "It’s Important to Use Multithreading in Certain Applications Because it:\n",
        "Improves responsiveness and speed, especially in I/O-bound programs.\n",
        "Allows handling multiple tasks simultaneously within the same memory space.\n",
        "Maximizes utilization of system capabilities without blocking the main flow. Multithreading is particularly useful for network servers and GUIs.\n"
      ],
      "metadata": {
        "id": "8YrG9xbByu7R"
      }
    },
    {
      "cell_type": "markdown",
      "source": [
        "PRACTICALS"
      ],
      "metadata": {
        "id": "oeYVpkvR50ZS"
      }
    },
    {
      "cell_type": "code",
      "source": [
        "#1 How can you open a file for writing in Python and write a string to it?\n",
        "with open(\"example.txt\", \"w\") as file:\n",
        "    file.write(\"Hello, World!\")\n"
      ],
      "metadata": {
        "id": "uKhx7wfd54Uk"
      },
      "execution_count": null,
      "outputs": []
    },
    {
      "cell_type": "code",
      "execution_count": null,
      "metadata": {
        "colab": {
          "base_uri": "https://localhost:8080/"
        },
        "id": "U-deFmXGyo7X",
        "outputId": "0651da6c-2294-4063-e665-1b07a957827a"
      },
      "outputs": [
        {
          "output_type": "stream",
          "name": "stdout",
          "text": [
            "Hello, World!\n"
          ]
        }
      ],
      "source": [
        "with open(\"example.txt\", \"r\") as file:\n",
        " Content = file.read()\n",
        "print(Content)"
      ]
    },
    {
      "cell_type": "code",
      "source": [
        "#2 Write a Python program to read the contents of a file and print each line?\n",
        "with open(\"example.txt\", \"r\") as file:\n",
        "    for line in file:\n",
        "        print(line.strip())"
      ],
      "metadata": {
        "colab": {
          "base_uri": "https://localhost:8080/"
        },
        "id": "OQXHNlbv5zso",
        "outputId": "012f5d40-c7cb-4745-f741-25b83857d9f8"
      },
      "execution_count": null,
      "outputs": [
        {
          "output_type": "stream",
          "name": "stdout",
          "text": [
            "Hello, World!\n"
          ]
        }
      ]
    },
    {
      "cell_type": "code",
      "source": [
        "#3 How would you handle a case where the file doesn't exist while trying to open it for reading?\n",
        "#Example-1 -- This approach allows your program to respond gracefully—such as by displaying a user-friendly error message—instead of crashing.\n",
        "try:\n",
        "    with open(\"example.txt\", \"r\") as file:\n",
        "        contents = file.read()\n",
        "    print(\"File contents:\")\n",
        "    print(contents)\n",
        "except FileNotFoundError:\n",
        "    print(\"Error: File not found.\")\n",
        "\n",
        "\n"
      ],
      "metadata": {
        "colab": {
          "base_uri": "https://localhost:8080/"
        },
        "id": "j0FCMC_B7mVk",
        "outputId": "2f74d6f5-32ae-44ba-fb36-69dda0e74ced"
      },
      "execution_count": null,
      "outputs": [
        {
          "output_type": "stream",
          "name": "stdout",
          "text": [
            "File contents:\n",
            "Hello, World!\n"
          ]
        }
      ]
    },
    {
      "cell_type": "code",
      "source": [
        "#Example 2 _-- This covers other common issues, such as insufficient permissions or trying to read a directory as a file\n",
        "try:\n",
        "    with open(\"example.txt\", \"r\") as file:\n",
        "        contents = file.read()\n",
        "    print(\"File contents:\")\n",
        "    print(contents)\n",
        "except FileNotFoundError:\n",
        "    print(\"Error: File not found.\")"
      ],
      "metadata": {
        "colab": {
          "base_uri": "https://localhost:8080/"
        },
        "id": "67oDsrTe8CyP",
        "outputId": "6ccf6ea8-21bd-4525-9d77-9aadf08aa044"
      },
      "execution_count": null,
      "outputs": [
        {
          "output_type": "stream",
          "name": "stdout",
          "text": [
            "File contents:\n",
            "Hello, World!\n"
          ]
        }
      ]
    },
    {
      "cell_type": "code",
      "source": [
        "#4  Write a Python script that reads from one file and writes its content to another file?\n",
        "with open(\"example.txt\", \"r\") as source_file:\n",
        "    content = source_file.read()\n",
        "with open(\"output.txt\", \"w\") as target_file:\n",
        "    target_file.write(content)\n",
        "print(\"Files copied Successfully.\")\n"
      ],
      "metadata": {
        "colab": {
          "base_uri": "https://localhost:8080/"
        },
        "id": "K_Bmfm9I9C2w",
        "outputId": "97257910-adcb-4872-9669-c5601b6060d3"
      },
      "execution_count": null,
      "outputs": [
        {
          "output_type": "stream",
          "name": "stdout",
          "text": [
            "Files copied Successfully.\n"
          ]
        }
      ]
    },
    {
      "cell_type": "code",
      "source": [
        "#5 How would you catch and handle division by zero error in Python?\n",
        "try:\n",
        "    result = 10 / 0\n",
        "except ZeroDivisionError:\n",
        "    print(\"Error: Division by zero is not allowed.\")\n"
      ],
      "metadata": {
        "colab": {
          "base_uri": "https://localhost:8080/"
        },
        "id": "PKB-ZYeW9I4k",
        "outputId": "4c5b0481-e6e5-4439-a2d8-ed94f8632e88"
      },
      "execution_count": null,
      "outputs": [
        {
          "output_type": "stream",
          "name": "stdout",
          "text": [
            "Error: Division by zero is not allowed.\n"
          ]
        }
      ]
    },
    {
      "cell_type": "code",
      "source": [
        "#6 Write a Python program that logs an error message to a log file when a division by zero exception occurs?\n",
        "\n",
        "import logging\n",
        "\n",
        "# Configure logging to write to a file\n",
        "logging.basicConfig(\n",
        "    filename='error.log',              # Log file name\n",
        "    level=logging.ERROR,               # Minimum level to log\n",
        "    format='%(asctime)s - %(levelname)s - %(message)s'  # Log format\n",
        ")\n",
        "\n",
        "# Example function with division\n",
        "def divide(a, b):\n",
        "    try:\n",
        "        result = a / b\n",
        "        print(\"Result:\", result)\n",
        "    except ZeroDivisionError as e:\n",
        "        # Log the error\n",
        "        logging.error(\"Attempted to divide by zero: %s / %s\", a, b)\n",
        "        print(\"Error: Cannot divide by zero.\")\n",
        "\n",
        "# Example usage\n",
        "divide(10, 0)\n"
      ],
      "metadata": {
        "colab": {
          "base_uri": "https://localhost:8080/"
        },
        "id": "dA_9FQOx-vsb",
        "outputId": "ad81e2df-5a0f-424a-b4e3-23cace08402f"
      },
      "execution_count": null,
      "outputs": [
        {
          "output_type": "stream",
          "name": "stderr",
          "text": [
            "ERROR:root:Attempted to divide by zero: 10 / 0\n"
          ]
        },
        {
          "output_type": "stream",
          "name": "stdout",
          "text": [
            "Error: Cannot divide by zero.\n"
          ]
        }
      ]
    },
    {
      "cell_type": "code",
      "source": [
        "#7 How do you log information at different levels (INFO, ERROR, WARNING) in Python using the logging module?\n",
        "#Ans : In Python, the built-in logging module allows you to log messages at different severity levels, such as:\n",
        "\n",
        "#DEBUG\n",
        "#INFO\n",
        "#WARNING\n",
        "#ERROR\n",
        "#CRITICAL\n",
        "#These levels help you distinguish between various types of events or messages in your code execution (e.g., debugging info, warnings, or errors).\n",
        "#Example like :\n",
        "\n",
        "import logging\n",
        "\n",
        "# Configure the logging system\n",
        "logging.basicConfig(\n",
        "    level=logging.DEBUG,  # Set the minimum level you want to log\n",
        "    format='%(asctime)s - %(levelname)s - %(message)s'\n",
        ")\n",
        "\n",
        "# Log messages at different levels\n",
        "logging.debug(\"This is a debug message (for developers).\")\n",
        "logging.info(\"This is an info message (general info).\")\n",
        "logging.warning(\"This is a warning message (possible issue).\")\n",
        "logging.error(\"This is an error message (problem occurred).\")\n",
        "logging.critical(\"This is a critical message (serious failure).\")\n"
      ],
      "metadata": {
        "colab": {
          "base_uri": "https://localhost:8080/"
        },
        "id": "2H1Oz_BT_cJ_",
        "outputId": "11aaa512-adc6-4619-f1f5-f70e7786e36c"
      },
      "execution_count": null,
      "outputs": [
        {
          "output_type": "stream",
          "name": "stderr",
          "text": [
            "WARNING:root:This is a warning message (possible issue).\n",
            "ERROR:root:This is an error message (problem occurred).\n",
            "CRITICAL:root:This is a critical message (serious failure).\n"
          ]
        }
      ]
    },
    {
      "cell_type": "code",
      "source": [
        "#8 Write a program to handle a file opening error using exception handling?\n",
        "try:\n",
        "    with open(\"nonexistent_file.txt\", \"r\") as file:\n",
        "        content = file.read()\n",
        "except FileNotFoundError:\n",
        "    print(\"Error: File not found.\")\n",
        "except Exception as e:\n",
        "    print(\"An error occurred:\", e)"
      ],
      "metadata": {
        "colab": {
          "base_uri": "https://localhost:8080/"
        },
        "id": "HBkotpAmAVM0",
        "outputId": "1b8539d4-39a6-424b-e130-9f6370c06830"
      },
      "execution_count": null,
      "outputs": [
        {
          "output_type": "stream",
          "name": "stdout",
          "text": [
            "Error: File not found.\n"
          ]
        }
      ]
    },
    {
      "cell_type": "code",
      "source": [
        "#9  How can you read a file line by line and store its content in a list in Python?\n",
        "with open(\"example.txt\", \"r\") as file:\n",
        "    lines = file.readlines()\n",
        "for line in lines:\n",
        "    print(line.strip())"
      ],
      "metadata": {
        "colab": {
          "base_uri": "https://localhost:8080/"
        },
        "id": "5w2RBoEYAmjX",
        "outputId": "6c08d8ab-c6d2-4ed3-e044-5dba378e7016"
      },
      "execution_count": null,
      "outputs": [
        {
          "output_type": "stream",
          "name": "stdout",
          "text": [
            "Hello, World!\n"
          ]
        }
      ]
    },
    {
      "cell_type": "code",
      "source": [
        "#10 How can you append data to an existing file in Python?\n",
        "with open(\"example.txt\", \"a\") as file:\n",
        "    file.write(\"\\nAppending some more content.\")\n",
        "    print(\"Data appended successfully.\")"
      ],
      "metadata": {
        "colab": {
          "base_uri": "https://localhost:8080/"
        },
        "id": "pfRZJSdRBWgj",
        "outputId": "30ca6a52-9e94-479c-d2a0-2d8461c7e487"
      },
      "execution_count": null,
      "outputs": [
        {
          "output_type": "stream",
          "name": "stdout",
          "text": [
            "Data appended successfully.\n"
          ]
        }
      ]
    },
    {
      "cell_type": "code",
      "source": [
        "#11 Write a Python program that uses a try-except block to handle an error when attempting to access adictionary key that doesn't exist?\n",
        "my_dict = {\"key1\": \"value1\", \"key2\": \"value2\"}\n",
        "try:\n",
        "    value = my_dict[\"key3\"]\n",
        "except KeyError:\n",
        "    print(\"Error: Key not found in the dictionary.\")\n"
      ],
      "metadata": {
        "colab": {
          "base_uri": "https://localhost:8080/"
        },
        "id": "AKc14v5IBd-9",
        "outputId": "fdc4b1c1-b44e-4a6b-fef7-06cc64930f6f"
      },
      "execution_count": null,
      "outputs": [
        {
          "output_type": "stream",
          "name": "stdout",
          "text": [
            "Error: Key not found in the dictionary.\n"
          ]
        }
      ]
    },
    {
      "cell_type": "code",
      "source": [
        "#12  Write a program that demonstrates using multiple except blocks to handle different types of exceptions?\n",
        "try:\n",
        "    result = 10 / 0\n",
        "except ZeroDivisionError:\n",
        "    print(\"Error: Division by zero.\")\n",
        "except ValueError:\n",
        "    print(\"Error: Invalid value.\")\n",
        "except Exception as e:\n",
        "    print(\"An error occurred:\", e)"
      ],
      "metadata": {
        "colab": {
          "base_uri": "https://localhost:8080/"
        },
        "id": "_tYg5l9XB6N9",
        "outputId": "5af6bf95-78a1-4ffc-b953-7950e863603e"
      },
      "execution_count": null,
      "outputs": [
        {
          "output_type": "stream",
          "name": "stdout",
          "text": [
            "Error: Division by zero.\n"
          ]
        }
      ]
    },
    {
      "cell_type": "code",
      "source": [
        "#13 How would you check if a file exists before attempting to read it in Python?\n",
        "import os\n",
        "\n",
        "file_path = \"example.txt\"\n",
        "if os.path.exists(file_path):\n",
        "    with open(file_path, \"r\") as file:\n",
        "        content = file.read()\n",
        "        print(\"File contents:\")\n",
        "        print(content)"
      ],
      "metadata": {
        "colab": {
          "base_uri": "https://localhost:8080/"
        },
        "id": "mvl5fEIHB_7P",
        "outputId": "c225cf34-1f48-409d-b8d2-2b4cef532ea0"
      },
      "execution_count": null,
      "outputs": [
        {
          "output_type": "stream",
          "name": "stdout",
          "text": [
            "File contents:\n",
            "Hello, World!\n",
            "Appending some more content.\n",
            "Appending some more content.\n"
          ]
        }
      ]
    },
    {
      "cell_type": "code",
      "source": [
        "#14 Write a program that uses the logging module to log both informational and error messages?\n",
        "import logging\n",
        "\n",
        "# Configure logging\n",
        "logging.basicConfig(\n",
        "    filename='app.log',          # Log messages will be saved in this file\n",
        "    level=logging.DEBUG,         # Capture all levels from DEBUG and above\n",
        "    format='%(asctime)s - %(levelname)s - %(message)s'\n",
        ")\n",
        "\n",
        "# Log an informational message\n",
        "logging.info(\"Program started successfully.\")\n",
        "\n",
        "try:\n",
        "    # Example operation\n",
        "    result = 10 / 0\n",
        "except ZeroDivisionError as e:\n",
        "    # Log an error message\n",
        "    logging.error(\"Error occurred: Division by zero.\")\n",
        "\n",
        "logging.info(\"Program ended.\")\n"
      ],
      "metadata": {
        "colab": {
          "base_uri": "https://localhost:8080/"
        },
        "id": "cR1xCvmuCE3_",
        "outputId": "6a10b81b-26be-426a-b7d5-24af9f63a5d5"
      },
      "execution_count": null,
      "outputs": [
        {
          "output_type": "stream",
          "name": "stderr",
          "text": [
            "ERROR:root:Error occurred: Division by zero.\n"
          ]
        }
      ]
    },
    {
      "cell_type": "code",
      "source": [
        "#15 Write a Python program that prints the content of a file and handles the case when the file is empty?\n",
        "try:\n",
        "    with open(\"example.txt\", \"r\") as file:\n",
        "        content = file.read()\n",
        "        if not content:\n",
        "            raise ValueError(\"File is empty.\")\n",
        "        print(\"File contents:\")\n",
        "        print(content)\n",
        "except FileNotFoundError:\n",
        "    print(\"Error: File not found.\")\n",
        "except ValueError as e:\n",
        "    print(\"Error:\", e)"
      ],
      "metadata": {
        "colab": {
          "base_uri": "https://localhost:8080/"
        },
        "id": "jnFXhTfcCZ_8",
        "outputId": "c9775fd8-34ef-4445-d9dc-8c0197a70dd2"
      },
      "execution_count": null,
      "outputs": [
        {
          "output_type": "stream",
          "name": "stdout",
          "text": [
            "File contents:\n",
            "Hello, World!\n",
            "Appending some more content.\n",
            "Appending some more content.\n"
          ]
        }
      ]
    },
    {
      "cell_type": "markdown",
      "source": [
        "Step 1: Install memory_profiler\n",
        "Use pip to install it:\n",
        "pip install memory-profiler\n",
        "Step 2: Write a Small Program with a Function to Profile\n",
        "from memory_profiler import profile\n",
        "\n",
        "@profile\n",
        "def create_list():\n",
        "    a = [i for i in range(1000000)]  # list with 1 million integers\n",
        "    return a\n",
        "\n",
        "if __name__ == \"__main__\":\n",
        "    create_list()\n",
        "step 3: Run with the Memory Profiler\n",
        "Use the -m memory_profiler flag to run the script\n",
        "python -m memory_profiler memory_test.py\n",
        "\n"
      ],
      "metadata": {
        "id": "dBVPR-3cDkeG"
      }
    },
    {
      "cell_type": "code",
      "source": [
        "%pip install memory-profiler"
      ],
      "metadata": {
        "colab": {
          "base_uri": "https://localhost:8080/"
        },
        "id": "tFKGEodOEato",
        "outputId": "b1ec2c27-2d6b-43ef-ddb1-9d12a2c46d75"
      },
      "execution_count": null,
      "outputs": [
        {
          "output_type": "stream",
          "name": "stdout",
          "text": [
            "Requirement already satisfied: memory-profiler in /usr/local/lib/python3.11/dist-packages (0.61.0)\n",
            "Requirement already satisfied: psutil in /usr/local/lib/python3.11/dist-packages (from memory-profiler) (5.9.5)\n"
          ]
        }
      ]
    },
    {
      "cell_type": "code",
      "source": [
        "#16  Demonstrate how to use memory profiling to check the memory usage of a small program?\n",
        "from memory_profiler import profile\n",
        "\n",
        "@profile\n",
        "def create_list():\n",
        "    a = [i for i in range(1000000)]  # list with 1 million integers\n",
        "    return a\n",
        "\n",
        "if __name__ == \"__main__\":\n",
        "    create_list()"
      ],
      "metadata": {
        "colab": {
          "base_uri": "https://localhost:8080/"
        },
        "id": "R1K7CIdXCyjO",
        "outputId": "3863a281-adac-4137-b08b-0d19e867cb67"
      },
      "execution_count": null,
      "outputs": [
        {
          "output_type": "stream",
          "name": "stdout",
          "text": [
            "ERROR: Could not find file /tmp/ipython-input-71-3959075542.py\n"
          ]
        }
      ]
    },
    {
      "cell_type": "code",
      "source": [
        "list=[1,2,3,4,5,6,7,8,9,10]\n",
        "print(list)"
      ],
      "metadata": {
        "colab": {
          "base_uri": "https://localhost:8080/"
        },
        "id": "zp1swrNfFIDF",
        "outputId": "cbffb195-f797-4599-877f-2d8654f09c67"
      },
      "execution_count": null,
      "outputs": [
        {
          "output_type": "stream",
          "name": "stdout",
          "text": [
            "[1, 2, 3, 4, 5, 6, 7, 8, 9, 10]\n"
          ]
        }
      ]
    },
    {
      "cell_type": "code",
      "source": [
        "#17 Write a Python program to create and write a list of numbers to a file, one number per line?\n",
        "with open(\"numbers.txt\", \"w\") as file:\n",
        "    numbers = [1, 2, 3, 4, 5]\n",
        "    for num in numbers:\n",
        "        file.write(str(num) + \"\\n\")\n",
        "print"
      ],
      "metadata": {
        "colab": {
          "base_uri": "https://localhost:8080/"
        },
        "id": "YRsI4eIBDHI1",
        "outputId": "91e4d028-f8c7-42c7-d27f-0bca3aff7f67"
      },
      "execution_count": null,
      "outputs": [
        {
          "output_type": "execute_result",
          "data": {
            "text/plain": [
              "<function print(*args, sep=' ', end='\\n', file=None, flush=False)>"
            ]
          },
          "metadata": {},
          "execution_count": 104
        }
      ]
    },
    {
      "cell_type": "code",
      "metadata": {
        "colab": {
          "base_uri": "https://localhost:8080/"
        },
        "id": "a05e7aa8",
        "outputId": "d97ed8c0-0ded-4328-d6b3-77ebf4f0ed2e"
      },
      "source": [
        "#18 How would you implement a basic logging setup that logs to a file with rotation after 1MB?\n",
        "import logging\n",
        "from logging.handlers import RotatingFileHandler\n",
        "\n",
        "# Configure the logger\n",
        "logger = logging.getLogger('my_app')\n",
        "logger.setLevel(logging.INFO)\n",
        "\n",
        "# Create a rotating file handler\n",
        "# maxBytes=1MB (1,048,576 bytes), backupCount=5 (keep up to 5 old log files)\n",
        "handler = RotatingFileHandler(\n",
        "    'app.log',\n",
        "    maxBytes=1048576,\n",
        "    backupCount=5,\n",
        "    encoding='utf-8'\n",
        ")\n",
        "\n",
        "# Set the log format\n",
        "formatter = logging.Formatter('%(asctime)s - %(name)s - %(levelname)s - %(message)s')\n",
        "handler.setFormatter(formatter)\n",
        "\n",
        "# Add the handler to the logger\n",
        "logger.addHandler(handler)\n",
        "\n",
        "# Example log messages\n",
        "logger.info(\"Application started.\")\n",
        "logger.warning(\"This is a warning message.\")\n",
        "logger.error(\"This is an error message.\")\n"
      ],
      "execution_count": null,
      "outputs": [
        {
          "output_type": "stream",
          "name": "stderr",
          "text": [
            "INFO:my_app:Application started.\n",
            "WARNING:my_app:This is a warning message.\n",
            "ERROR:my_app:This is an error message.\n"
          ]
        }
      ]
    },
    {
      "cell_type": "code",
      "source": [
        "#19 Write a program that handles both IndexError and KeyError using a try-except block?\n",
        "def handle_exceptions():\n",
        "    my_list = [10, 20, 30]\n",
        "    my_dict = {'name': 'shiva', 'age': 25}\n",
        "\n",
        "    try:\n",
        "        # This will raise an IndexError\n",
        "        print(\"List Item:\", my_list[5])\n",
        "\n",
        "        # This will raise a KeyError (if the IndexError is commented out)\n",
        "        print(\"City:\", my_dict['city'])\n",
        "\n",
        "    except IndexError:\n",
        "        print(\"Error: List index is out of range.\")\n",
        "\n",
        "    except KeyError:\n",
        "        print(\"Error: The specified key does not exist in the dictionary.\")\n",
        "\n",
        "\n",
        "if __name__ == \"__main__\":\n",
        "    handle_exceptions()\n"
      ],
      "metadata": {
        "colab": {
          "base_uri": "https://localhost:8080/"
        },
        "id": "yPi5nvTwJkFi",
        "outputId": "12a6bf54-75b2-478d-c0de-30d5cb46c88c"
      },
      "execution_count": null,
      "outputs": [
        {
          "output_type": "stream",
          "name": "stdout",
          "text": [
            "Error: List index is out of range.\n"
          ]
        }
      ]
    },
    {
      "cell_type": "code",
      "source": [
        "#20 How would you open a file and read its contents using a context manager in Python?\n",
        "with open('example.txt', 'r') as file:\n",
        "    for line in file:\n",
        "        print(line, end='')\n"
      ],
      "metadata": {
        "colab": {
          "base_uri": "https://localhost:8080/"
        },
        "id": "eeLO6faZJvNA",
        "outputId": "3d7355f4-f1e7-4042-c5b8-3dde3f6caced"
      },
      "execution_count": null,
      "outputs": [
        {
          "output_type": "stream",
          "name": "stdout",
          "text": [
            "Hello, World!\n",
            "Appending some more content.\n",
            "Appending some more content."
          ]
        }
      ]
    },
    {
      "cell_type": "code",
      "source": [
        "#21 Write a Python program that reads a file and prints the number of occurrences of a specific word?\n",
        "def count_word_occurrences(filename, target_word):\n",
        "    try:\n",
        "        with open(filename, 'r', encoding='utf-8') as file:\n",
        "            # Read file content and convert to lowercase\n",
        "            content = file.read().lower()\n",
        "\n",
        "            # Convert target word to lowercase for case-insensitive match\n",
        "            word_count = content.split().count(target_word.lower())\n",
        "\n",
        "        print(f\"The word '{target_word}' occurred {word_count} times in '{filename}'.\")\n",
        "\n",
        "    except FileNotFoundError:\n",
        "        print(f\"Error: The file '{filename}' does not exist.\")\n",
        "    except Exception as e:\n",
        "        print(f\"An error occurred: {e}\")\n",
        "\n",
        "\n",
        "# Example usage\n",
        "file_name = 'sample.txt'\n",
        "word_to_find = 'python'\n",
        "count_word_occurrences(file_name, word_to_find)\n"
      ],
      "metadata": {
        "colab": {
          "base_uri": "https://localhost:8080/"
        },
        "id": "qzwSbGQGJ7iw",
        "outputId": "9aae5f3b-e3b7-4d82-d507-ff4c2cfc1791"
      },
      "execution_count": null,
      "outputs": [
        {
          "output_type": "stream",
          "name": "stdout",
          "text": [
            "Error: The file 'sample.txt' does not exist.\n"
          ]
        }
      ]
    },
    {
      "cell_type": "code",
      "source": [
        "#22 How can you check if a file is empty before attempting to read its contents?\n",
        "def is_file_empty(file_path):\n",
        "    try:\n",
        "        with open(file_path, 'r') as file:\n",
        "            content = file.read()\n",
        "            if not content:\n",
        "                return True\n",
        "            else:\n",
        "                return False\n",
        "    except FileNotFoundError:\n",
        "        return True\n",
        "    except Exception as e:\n",
        "        print(f\"An error occurred: {e}\")"
      ],
      "metadata": {
        "id": "TXwjxK1PKGRY"
      },
      "execution_count": null,
      "outputs": []
    },
    {
      "cell_type": "code",
      "source": [
        "#23 Write a Python program that writes to a log file when an error occurs during file handling?\n",
        "import logging\n",
        "\n",
        "# Configure the logger\n",
        "logger = logging.getLogger('file_handling_logger')\n",
        "logger.setLevel(logging.ERROR)\n",
        "\n",
        "# Create a file handler\n",
        "handler = logging"
      ],
      "metadata": {
        "id": "7MjMsl6yKRfx"
      },
      "execution_count": null,
      "outputs": []
    },
    {
      "cell_type": "code",
      "source": [],
      "metadata": {
        "id": "mst1mg0LKfNn"
      },
      "execution_count": null,
      "outputs": []
    }
  ]
}